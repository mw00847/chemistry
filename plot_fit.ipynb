{
 "cells": [
  {
   "cell_type": "code",
   "execution_count": null,
   "metadata": {},
   "outputs": [],
   "source": [
    "%matplotlib inline"
   ]
  },
  {
   "cell_type": "markdown",
   "metadata": {},
   "source": [
    "\n",
    "# Fitting 1D dataset\n",
    "In this example, we find the least  square solution of a simple linear\n",
    "equation.\n"
   ]
  },
  {
   "cell_type": "code",
   "execution_count": null,
   "metadata": {},
   "outputs": [],
   "source": [
    "# sphinx_gallery_thumbnail_number = 2\n",
    "\n",
    "import os\n",
    "\n",
    "import spectrochempy as scp"
   ]
  },
  {
   "cell_type": "markdown",
   "metadata": {},
   "source": [
    "Let's take an IR spectrum\n",
    "\n"
   ]
  },
  {
   "cell_type": "code",
   "execution_count": null,
   "metadata": {},
   "outputs": [],
   "source": [
    "nd = scp.NDDataset.read_omnic(os.path.join(\"irdata\", \"nh4y-activation.spg\"))"
   ]
  },
  {
   "cell_type": "markdown",
   "metadata": {},
   "source": [
    "where we select only region (OH region)\n",
    "\n"
   ]
  },
  {
   "cell_type": "code",
   "execution_count": null,
   "metadata": {},
   "outputs": [],
   "source": [
    "ndOH = nd[54, 3700.0:3400.0]\n",
    "\n",
    "ndOH.plot()"
   ]
  },
  {
   "cell_type": "markdown",
   "metadata": {},
   "source": [
    "Perform a Fit\n",
    "Fit parameters are defined in a script (a single text as below)\n",
    "\n"
   ]
  },
  {
   "cell_type": "code",
   "execution_count": null,
   "metadata": {},
   "outputs": [],
   "source": [
    "script = \"\"\"\n",
    "#-----------------------------------------------------------\n",
    "# syntax for parameters definition:\n",
    "# name: value, low_bound,  high_bound\n",
    "#  * for fixed parameters\n",
    "#  $ for variable parameters\n",
    "#  > for reference to a parameter in the COMMON block\n",
    "#    (> is forbidden in the COMMON block)\n",
    "# common block parameters should not have a _ in their names\n",
    "#-----------------------------------------------------------\n",
    "#\n",
    "\n",
    "COMMON:\n",
    "# common parameters ex.\n",
    "# $ gwidth: 1.0, 0.0, none\n",
    "$ gratio: 0.1, 0.0, 1.0\n",
    "\n",
    "MODEL: LINE_1\n",
    "shape: asymmetricvoigtmodel\n",
    "    * ampl:  1.0, 0.0, none\n",
    "    $ pos:   3620, 3400.0, 3700.0\n",
    "    $ ratio: 0.0147, 0.0, 1.0\n",
    "    $ asym: 0.1, 0, 1\n",
    "    $ width: 200, 0, 1000\n",
    "\n",
    "MODEL: LINE_2\n",
    "shape: asymmetricvoigtmodel\n",
    "    $ ampl:  0.2, 0.0, none\n",
    "    $ pos:   3520, 3400.0, 3700.0\n",
    "    > ratio: gratio\n",
    "    $ asym: 0.1, 0, 1\n",
    "    $ width: 200, 0, 1000\n",
    "\n",
    "\"\"\""
   ]
  },
  {
   "cell_type": "markdown",
   "metadata": {},
   "source": [
    "create a fit object\n",
    "\n"
   ]
  },
  {
   "cell_type": "code",
   "execution_count": null,
   "metadata": {},
   "outputs": [],
   "source": [
    "f1 = scp.Fit(ndOH, script, silent=True)"
   ]
  },
  {
   "cell_type": "markdown",
   "metadata": {},
   "source": [
    "Show plot and the starting model before the fit (of course it is advisable\n",
    "to be as close as possible of a good expectation\n",
    "\n"
   ]
  },
  {
   "cell_type": "code",
   "execution_count": null,
   "metadata": {},
   "outputs": [],
   "source": [
    "f1.dry_run()\n",
    "\n",
    "ndOH.plot(plot_model=True)\n",
    "\n",
    "f1.run(maxiter=1000)"
   ]
  },
  {
   "cell_type": "markdown",
   "metadata": {},
   "source": [
    "Show the result after 1000 iterations\n",
    "\n"
   ]
  },
  {
   "cell_type": "code",
   "execution_count": null,
   "metadata": {},
   "outputs": [],
   "source": [
    "ndOH.plot(plot_model=True)\n",
    "\n",
    "# scp.show()  # uncomment to show plot if needed (not necessary in jupyter notebook)"
   ]
  }
 ],
 "metadata": {
  "kernelspec": {
   "display_name": "Python 3",
   "language": "python",
   "name": "python3"
  },
  "language_info": {
   "codemirror_mode": {
    "name": "ipython",
    "version": 3
   },
   "file_extension": ".py",
   "mimetype": "text/x-python",
   "name": "python",
   "nbconvert_exporter": "python",
   "pygments_lexer": "ipython3",
   "version": "3.9.15"
  }
 },
 "nbformat": 4,
 "nbformat_minor": 0
}
