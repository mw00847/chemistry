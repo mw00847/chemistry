{
 "cells": [
  {
   "cell_type": "code",
   "execution_count": null,
   "metadata": {},
   "outputs": [],
   "source": [
    "%matplotlib inline"
   ]
  },
  {
   "cell_type": "markdown",
   "metadata": {},
   "source": [
    "\n",
    "# Solve a linear equation using LSTSQ\n",
    "\n",
    "In this example, we find the least  square solution of a simple linear\n",
    "equation.\n"
   ]
  },
  {
   "cell_type": "code",
   "execution_count": null,
   "metadata": {},
   "outputs": [],
   "source": [
    "# sphinx_gallery_thumbnail_number = 2\n",
    "\n",
    "import spectrochempy as scp"
   ]
  },
  {
   "cell_type": "markdown",
   "metadata": {},
   "source": [
    "Let's take a similar example to the one given in the `numpy.linalg`\n",
    "documentation\n",
    "\n",
    "We have some noisy data that represent the distance `d` traveled by some\n",
    "objects versus time `t`:\n",
    "\n"
   ]
  },
  {
   "cell_type": "code",
   "execution_count": null,
   "metadata": {},
   "outputs": [],
   "source": [
    "t = scp.NDDataset(data=[0, 1, 2, 3], title=\"time\", units=\"hour\")\n",
    "\n",
    "d = scp.NDDataset(\n",
    "    data=[-1, 0.2, 0.9, 2.1], coordset=[t], title=\"distance\", units=\"kilometer\"\n",
    ")"
   ]
  },
  {
   "cell_type": "markdown",
   "metadata": {},
   "source": [
    "Here is a plot of these data-points:\n",
    "\n"
   ]
  },
  {
   "cell_type": "code",
   "execution_count": null,
   "metadata": {},
   "outputs": [],
   "source": [
    "d.plot_scatter(markersize=7, mfc=\"red\")"
   ]
  },
  {
   "cell_type": "markdown",
   "metadata": {},
   "source": [
    "We want to fit a line through these data-points of equation\n",
    "\n",
    "\\begin{align}d = v.t + d_0\\end{align}\n",
    "\n",
    "By examining the coefficients, we see that the line should have a\n",
    "gradient of roughly 1 km/h and cut the y-axis at, more or less, -1 km.\n",
    "\n",
    "Using LSTSQ, the solution is found very easily:\n",
    "\n"
   ]
  },
  {
   "cell_type": "code",
   "execution_count": null,
   "metadata": {},
   "outputs": [],
   "source": [
    "lst = scp.LSTSQ(t, d)\n",
    "\n",
    "v, d0 = lst.transform()\n",
    "print(\"speed : {:.3fK},  d0 : {:.3fK}\".format(v, d0))"
   ]
  },
  {
   "cell_type": "markdown",
   "metadata": {},
   "source": [
    "Final plot\n",
    "\n"
   ]
  },
  {
   "cell_type": "code",
   "execution_count": null,
   "metadata": {},
   "outputs": [],
   "source": [
    "d.plot_scatter(\n",
    "    markersize=10,\n",
    "    mfc=\"red\",\n",
    "    mec=\"black\",\n",
    "    label=\"Original data\",\n",
    "    suptitle=\"Least-square fitting \" \"example\",\n",
    ")\n",
    "dfit = lst.inverse_transform()\n",
    "\n",
    "dfit.plot_pen(clear=False, color=\"g\", label=\"Fitted line\", legend=True)"
   ]
  },
  {
   "cell_type": "markdown",
   "metadata": {},
   "source": [
    "Note: The same result can be obtained directly using `d` as a single\n",
    "parameter on LSTSQ (as `t` is the `x` coordinate axis!)\n",
    "\n"
   ]
  },
  {
   "cell_type": "code",
   "execution_count": null,
   "metadata": {},
   "outputs": [],
   "source": [
    "lst = scp.LSTSQ(d)\n",
    "\n",
    "v, d0 = lst.transform()\n",
    "print(\"speed : {:.3fK},  d0 : {:.3fK}\".format(v, d0))\n",
    "\n",
    "# scp.show()  # uncomment to show plot if needed (not necessary in jupyter notebook)"
   ]
  }
 ],
 "metadata": {
  "kernelspec": {
   "display_name": "Python 3",
   "language": "python",
   "name": "python3"
  },
  "language_info": {
   "codemirror_mode": {
    "name": "ipython",
    "version": 3
   },
   "file_extension": ".py",
   "mimetype": "text/x-python",
   "name": "python",
   "nbconvert_exporter": "python",
   "pygments_lexer": "ipython3",
   "version": "3.9.15"
  }
 },
 "nbformat": 4,
 "nbformat_minor": 0
}
